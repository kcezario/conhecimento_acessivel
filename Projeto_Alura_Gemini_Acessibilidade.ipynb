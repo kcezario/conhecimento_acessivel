{
  "nbformat": 4,
  "nbformat_minor": 0,
  "metadata": {
    "colab": {
      "provenance": [],
      "mount_file_id": "1E5rsB0hvdIrE3j-4O4ZFBAw90ufwZFx2",
      "authorship_tag": "ABX9TyPvUvhTS+RrwltKSbQL6hqS",
      "include_colab_link": true
    },
    "kernelspec": {
      "name": "python3",
      "display_name": "Python 3"
    },
    "language_info": {
      "name": "python"
    }
  },
  "cells": [
    {
      "cell_type": "markdown",
      "metadata": {
        "id": "view-in-github",
        "colab_type": "text"
      },
      "source": [
        "<a href=\"https://colab.research.google.com/github/kcezario/conhecimento_acessivel/blob/main/Projeto_Alura_Gemini_Acessibilidade.ipynb\" target=\"_parent\"><img src=\"https://colab.research.google.com/assets/colab-badge.svg\" alt=\"Open In Colab\"/></a>"
      ]
    },
    {
      "cell_type": "markdown",
      "source": [
        "# Conhecimento Acessível: Desvendando o Código\n",
        "O projeto \"Conhecimento Acessível\" utiliza o poder da Gemini API do Google para criar um assistente inclusivo, abrindo portas para a educação de pessoas com deficiência visual e não alfabetizados. O código, escrito em Python e executado no Google Colab, implementa diversas funcionalidades que tornam essa visão uma realidade."
      ],
      "metadata": {
        "id": "bmgMIYlBmzjs"
      }
    },
    {
      "cell_type": "code",
      "execution_count": null,
      "metadata": {
        "id": "H-KfL5JjobIQ"
      },
      "outputs": [],
      "source": [
        "!pip install -q -U google-generativeai\n",
        "!pip install -q -U SpeechRecognition\n",
        "!pip install -q -U faster-whisper\n",
        "!pip install -q -U wikipedia\n",
        "!pip install -q -U gTTS\n",
        "!pip install -q -U gTTS pydub"
      ]
    },
    {
      "cell_type": "code",
      "source": [
        "import re\n",
        "import numpy as np\n",
        "import pandas as pd\n",
        "import google.generativeai as genai\n",
        "import wikipedia\n",
        "import time\n",
        "import inspect\n",
        "import os\n",
        "from pydub import AudioSegment\n",
        "from gtts import gTTS\n",
        "from faster_whisper import WhisperModel\n",
        "from io import BytesIO\n",
        "from base64 import b64decode\n",
        "from google.colab import output\n",
        "from google.colab import userdata\n",
        "from IPython.display import Javascript\n",
        "from IPython.display import Audio"
      ],
      "metadata": {
        "id": "aoBtCpHOosWQ"
      },
      "execution_count": null,
      "outputs": []
    },
    {
      "cell_type": "code",
      "source": [
        "API_KEY = userdata.get('SECRET_KEY')\n",
        "genai.configure(api_key=API_KEY)"
      ],
      "metadata": {
        "id": "fU6vJ0bik3LD"
      },
      "execution_count": null,
      "outputs": []
    },
    {
      "cell_type": "code",
      "source": [
        "RECORD = \"\"\"\n",
        "const sleep  = time => new Promise(resolve => setTimeout(resolve, time))\n",
        "const b2text = blob => new Promise(resolve => {\n",
        "  const reader = new FileReader()\n",
        "  reader.onloadend = e => resolve(e.srcElement.result)\n",
        "  reader.readAsDataURL(blob)\n",
        "})\n",
        "var record = time => new Promise(async resolve => {\n",
        "  stream = await navigator.mediaDevices.getUserMedia({ audio: true })\n",
        "  recorder = new MediaRecorder(stream)\n",
        "  chunks = []\n",
        "  recorder.ondataavailable = e => chunks.push(e.data)\n",
        "  recorder.start()\n",
        "  await sleep(time)\n",
        "  recorder.onstop = async ()=>{\n",
        "    blob = new Blob(chunks)\n",
        "    text = await b2text(blob)\n",
        "    resolve(text)\n",
        "  }\n",
        "  recorder.stop()\n",
        "})\n",
        "\"\"\""
      ],
      "metadata": {
        "id": "Qoh1toBat6BC"
      },
      "execution_count": null,
      "outputs": []
    },
    {
      "cell_type": "code",
      "source": [
        "prompt_gemini = {\n",
        "  'cumprimento': \"Você é um assistente simpático, e o texto que você gerar será lido por uma tecnologia de text-to-speech. Cumprimente o usuário. Mantenha o texto curto e sintético, simpático e pergunte o que ele quer saber hoje. Quero apenas a frase\",\n",
        "  'nao_entendi': \"Você é um assistente simpático que utiliza text-to-speech. Diga ao usuário que você não entendeu o comando e peça para ele repetir de forma gentil.\",\n",
        "  'despedida': \"Você é um assistente simpático que se comunica por text-to-speech. Despeça-se do usuário com um texto curto e gentil.\",\n",
        "  'resumo': \"Você é um assistente simpático que usa text-to-speech. Pergunte ao usuário se ele gostaria de ouvir um resumo do artigo.\",\n",
        "  'leitura_completa': \"Você é um assistente simpático que utiliza text-to-speech. Pergunte ao usuário se ele gostaria de ouvir o artigo completo.\",\n",
        "  '3_perguntas':\"Você é um assistente simpático que utiliza text-to-speech. Ofereça ao usuário três opções: ouvir um resumo do artigo, ouvir o artigo completo ou pesquisar outro assunto.\",\n",
        "  'esclarecimento': \"Você é um assistente simpático que usa text-to-speech. Pergunte ao usuário se ele deseja que algum ponto específico do artigo seja esclarecido.\",\n",
        "  'proximo_passo': \"Você é um assistente simpático que utiliza text-to-speech. Pergunte ao usuário o que ele gostaria de fazer agora, mas não ofereça nenhuma opção.\",\n",
        "  'novo_tema': \"Você é um assistente simpático que utiliza text-to-speech. Pergunte ao usuário sobre qual tema ele gostaria de saber.\",\n",
        "  'erro_tema': \"Você é um assistente simpático que utiliza text-to-speech. Peça desculpas por não ter encontrado informações sobre esse tema, peça para o usuário dizer sobre qual outro tema ele gostaria de saber?\",\n",
        "  'perguntas': \"Você é um assistente simpático que utiliza text-to-speech. Pergunte ao usuário se ele gostaria de responder a algumas perguntas sobre o tema para testar seus conhecimentos.\",\n",
        "}"
      ],
      "metadata": {
        "id": "C0oN7hkcwbbv"
      },
      "execution_count": null,
      "outputs": []
    },
    {
      "cell_type": "code",
      "source": [
        "# debug = True\n",
        "debug = False\n",
        "\n",
        "def log_function_call():\n",
        "    if debug:\n",
        "        caller_frame = inspect.currentframe().f_back\n",
        "        frame_info = inspect.getframeinfo(caller_frame)\n",
        "        file_name = os.path.basename(frame_info.filename)\n",
        "        cls_name = caller_frame.f_locals.get('self',\n",
        "                                             None).__class__.__name__ if 'self' in caller_frame.f_locals else None\n",
        "\n",
        "        if cls_name:\n",
        "            print(f\"Método {cls_name}.{frame_info.function}.\")\n",
        "        else:\n",
        "            print(f\"Função {frame_info.function}.\")"
      ],
      "metadata": {
        "id": "LcOM1EzHk6L4"
      },
      "execution_count": 24,
      "outputs": []
    },
    {
      "cell_type": "code",
      "source": [
        "def gerar_embedding(texto, model=model_embed):\n",
        "  log_function_call()\n",
        "  \"\"\"Gera um embedding para o texto usando a API do Gemini.\"\"\"\n",
        "  return genai.embed_content(model=model, content=texto, task_type=\"RETRIEVAL_QUERY\")[\"embedding\"]"
      ],
      "metadata": {
        "id": "64kkOgxIU_Uj"
      },
      "execution_count": null,
      "outputs": []
    },
    {
      "cell_type": "code",
      "source": [
        "model_embed = \"models/embedding-001\"\n",
        "gemini_model = genai.GenerativeModel(\"gemini-1.0-pro-latest\")\n",
        "gemini_conversa = gemini_model.start_chat(history=[])\n",
        "\n",
        "df_intencoes = pd.DataFrame({\n",
        "    'titulo': [\"não entendi\", \"pesquisar\", \"sair\"],\n",
        "    'conteudo': [\"coisas sem sentido\", \"desejo que você pesquise, me fale sobre, quero saber, quero estudar\", \"quero sair, adeus, nos vemos, até logo\"]\n",
        "})\n",
        "\n",
        "df_3_perguntas = pd.DataFrame({\n",
        "    'titulo': [\"resumo\", \"artigo completo\", \"outro assunto\", \"sair\"],\n",
        "    'conteudo': [\"quero um resumo, resuma para mim, explique rapidamente\", \"leia tudo, quero saber mais, comece a leitura\", \"quero falar de outra coisa, quero entnder sobre outro assunto\", \"quero sair, adeus, nos vemos, até logo\"]\n",
        "})\n",
        "\n",
        "df_intencoes['embedding'] = df_intencoes['conteudo'].apply(gerar_embedding)\n",
        "df_3_perguntas['embedding'] = df_3_perguntas['conteudo'].apply(gerar_embedding)"
      ],
      "metadata": {
        "colab": {
          "base_uri": "https://localhost:8080/",
          "height": 144
        },
        "id": "oSU4bHxlk2_T",
        "outputId": "240bde05-4d96-4acc-dc0a-26b405d43e8b"
      },
      "execution_count": null,
      "outputs": [
        {
          "output_type": "stream",
          "name": "stdout",
          "text": [
            "A função gerar_embedding - <ipython-input-10-007549d9f9be>.\n",
            "A função gerar_embedding - <ipython-input-10-007549d9f9be>.\n",
            "A função gerar_embedding - <ipython-input-10-007549d9f9be>.\n",
            "A função gerar_embedding - <ipython-input-10-007549d9f9be>.\n",
            "A função gerar_embedding - <ipython-input-10-007549d9f9be>.\n",
            "A função gerar_embedding - <ipython-input-10-007549d9f9be>.\n",
            "A função gerar_embedding - <ipython-input-10-007549d9f9be>.\n"
          ]
        }
      ]
    },
    {
      "cell_type": "code",
      "source": [
        "whisper_size = 'base'\n",
        "whisper_model = WhisperModel(whisper_size, device=\"cpu\", compute_type=\"int8\")\n"
      ],
      "metadata": {
        "colab": {
          "base_uri": "https://localhost:8080/"
        },
        "id": "z3G4oruc6Y6n",
        "outputId": "6a44699c-0e1b-42ea-b791-5730010468fa"
      },
      "execution_count": null,
      "outputs": [
        {
          "output_type": "stream",
          "name": "stderr",
          "text": [
            "/usr/local/lib/python3.10/dist-packages/huggingface_hub/utils/_token.py:88: UserWarning: \n",
            "The secret `HF_TOKEN` does not exist in your Colab secrets.\n",
            "To authenticate with the Hugging Face Hub, create a token in your settings tab (https://huggingface.co/settings/tokens), set it as secret in your Google Colab and restart your session.\n",
            "You will be able to reuse this secret in all of your notebooks.\n",
            "Please note that authentication is recommended but still optional to access public models or datasets.\n",
            "  warnings.warn(\n"
          ]
        }
      ]
    },
    {
      "cell_type": "code",
      "source": [
        "class Chat:\n",
        "\n",
        "    def __init__(self):\n",
        "        log_function_call()\n",
        "        self.input = None\n",
        "        self.output = None\n",
        "        self.comando = 'nao_entendi'\n",
        "        self.prompt = None\n",
        "        self.intencao = None\n",
        "        self.tema = None\n",
        "        self.conversa_iniciada = False\n",
        "        self.tema_novo = True\n",
        "        self.audio = None\n",
        "        self.artigo = None\n",
        "        self.resumo = None\n",
        "\n",
        "    def incio(self):\n",
        "        log_function_call()\n",
        "        \"\"\"Inicia o assistente de voz.\"\"\"\n",
        "        out = \"Iniciando o assistente...\"\n",
        "        print(out)\n",
        "        self.menu_principal()\n",
        "        out = \"Terminando o programa...\"\n",
        "        print(out)\n",
        "\n",
        "    def menu_principal(self):\n",
        "        log_function_call()\n",
        "        if self.comando != 'pesquisar':\n",
        "            if self.conversa_iniciada:\n",
        "                self.comando = 'nao_entendi'\n",
        "            else:\n",
        "                self.comando = 'cumprimento'\n",
        "                self.conversa_iniciada = True\n",
        "        else:\n",
        "            self.comando = 'erro_tema'\n",
        "\n",
        "        voltar = False\n",
        "        while not voltar:\n",
        "            self.pegar_resposta()\n",
        "            self.ouvir_escrever()\n",
        "            self.intencao = classificar_intencao(self.input, df_intencoes)\n",
        "            print(f'Intenção: {self.intencao}')\n",
        "            if self.intencao == 'pesquisar':\n",
        "                self.tema_novo = True\n",
        "                self.menu_pesquisa()\n",
        "            elif self.intencao == 'não entendi':\n",
        "                pass\n",
        "            else:\n",
        "                voltar = True\n",
        "\n",
        "    def menu_pesquisa(self):\n",
        "        log_function_call()\n",
        "        print(f'self.tema_novo - {self.tema_novo}')\n",
        "        if self.tema_novo:\n",
        "            self.extrair_tema_wikipedia()\n",
        "            texto = f\"Pesquisando na Wikipédia: {self.tema}\"\n",
        "            self.pesquisar_wikipedia()\n",
        "            self.comando = '3_perguntas'\n",
        "            print(texto)\n",
        "            play(texto)\n",
        "            self.tema_novo = False\n",
        "        else:\n",
        "            self.comando = 'novo_tema'\n",
        "\n",
        "        voltar = False\n",
        "        while not voltar:\n",
        "            self.pegar_resposta()\n",
        "            self.ouvir_escrever()\n",
        "            self.intencao = classificar_intencao(self.input, df_3_perguntas)\n",
        "            print(f'Intenção: {self.intencao}')\n",
        "            if self.intencao == 'resumo':\n",
        "                print(self.resumo)\n",
        "                play(self.resumo)\n",
        "                self.comando = 'proximo_passo'\n",
        "            elif self.intencao == 'artigo completo':\n",
        "                print(self.artigo)\n",
        "                play(self.artigo)\n",
        "                self.comando = 'proximo_passo'\n",
        "            elif self.intencao == 'outro assunto':\n",
        "                voltar = True\n",
        "            else:\n",
        "                break\n",
        "\n",
        "    def extrair_tema_wikipedia(self):\n",
        "        log_function_call()\n",
        "        \"\"\"Pede ao Gemini para extrair o tema principal da frase para pesquisa na Wikipédia.\"\"\"\n",
        "        prompt = f\"\"\"Você é um assistente inteligente que ajuda a encontrar informações na Wikipédia.\n",
        "        Analise a seguinte frase e identifique o assunto principal que o usuário deseja pesquisar: \"{self.input}\".\n",
        "        Forneça apenas o assunto principal, formatado como uma única frase, ideal para ser usado como consulta na API da Wikipédia.\n",
        "        Por exemplo, se a frase for \"Gostaria de saber mais sobre a história da pizza\", a resposta deve ser \"História da pizza\".\n",
        "        Sua resposta:\"\"\"\n",
        "\n",
        "        resposta = gemini_conversa.send_message(prompt)\n",
        "        tema_wikipedia = resposta.text\n",
        "        self.tema = tema_wikipedia\n",
        "\n",
        "    def pesquisar_wikipedia(self):\n",
        "        log_function_call()\n",
        "        \"\"\"Pesquisa um tema na Wikipedia e retorna o título, resumo e conteúdo completo do artigo.\"\"\"\n",
        "        try:\n",
        "            wikipedia.set_lang(\"pt\")\n",
        "            resultados = wikipedia.search(self.tema)\n",
        "            if resultados:\n",
        "                pagina = wikipedia.page(resultados[0])\n",
        "                self.tema = pagina.title\n",
        "                self.resumo = pagina.summary\n",
        "                self.artigo = pagina.content\n",
        "                self.tema_novo = False\n",
        "                self.comando = '3_perguntas'\n",
        "            else:\n",
        "                out = \"Desculpe, não encontrei nenhum artigo na Wikipédia sobre esse tema.\"\n",
        "                print(out)\n",
        "                play(out)\n",
        "                self.tema = None\n",
        "                self.tema_novo = True\n",
        "                self.comando = 'pesquisar'\n",
        "\n",
        "        except wikipedia.exceptions.PageError:\n",
        "            out = \"Desculpe, não encontrei nenhum artigo na Wikipédia com esse título.\", None\n",
        "            print(out)\n",
        "            play(out)\n",
        "            self.tema = None\n",
        "            self.tema_novo = True\n",
        "            self.comando = 'pesquisar'\n",
        "\n",
        "    def falar_gemini(self, texto=\"\"):\n",
        "        log_function_call()\n",
        "        expressao = self.prompt + texto\n",
        "        resposta = gemini_conversa.send_message(expressao)\n",
        "        self.output = resposta.text\n",
        "        play(self.output)\n",
        "\n",
        "    def pegar_resposta(self):\n",
        "        log_function_call()\n",
        "        self.prompt = prompt_gemini[self.comando]\n",
        "        self.falar_gemini()\n",
        "\n",
        "    def ouvir_escrever(self,sec=3):\n",
        "        log_function_call()\n",
        "        audio = self.record()\n",
        "        self.input = transcrever_audio(audio)\n",
        "        print(f'self.input - {self.input}')\n",
        "\n",
        "    def record(self, sec=3):\n",
        "        log_function_call()\n",
        "        display(Javascript(RECORD))\n",
        "        sec += 1\n",
        "        s = output.eval_js('record(%d)' % (sec*1000))\n",
        "        play(\"aguarde\")\n",
        "        print(\"Pensando...\")\n",
        "        b = b64decode(s.split(',')[1])\n",
        "        return b\n",
        "\n",
        "    def pesquisar(self):\n",
        "        log_function_call()\n",
        "        self.tema_novo = True\n",
        "        self.menu_pesquisa()\n",
        "\n",
        "def transcrever_audio(audio_bytes):\n",
        "    log_function_call()\n",
        "    \"\"\"Transcreve áudio usando faster_whisper, tratando erros de áudio inválido.\"\"\"\n",
        "    max_tentativas = 3  # Número máximo de tentativas de transcrição\n",
        "    tentativa = 1\n",
        "    while tentativa <= max_tentativas:\n",
        "        try:\n",
        "            with BytesIO(audio_bytes) as audio_stream:\n",
        "                segments, info = whisper_model.transcribe(audio_stream, language=\"pt\")\n",
        "                texto = ' '.join([segment.text for segment in segments])\n",
        "                return texto\n",
        "        except InvalidDataError:\n",
        "            print(f\"Erro de áudio inválido. Tentativa {tentativa} de {max_tentativas}. Aguardando mais tempo...\")\n",
        "            time.sleep(2)  # Aguarda 2 segundos antes de tentar novamente\n",
        "            tentativa += 1\n",
        "    return \"\"  # Retorna vazio se todas as tentativas falharem\n",
        "\n",
        "def play(text):\n",
        "    log_function_call()\n",
        "    text = \"   \" + text\n",
        "    tts = gTTS(text, lang='pt')\n",
        "    tts.save('output.mp3')\n",
        "    audio_segment = AudioSegment.from_mp3('output.mp3')\n",
        "    duration_seconds = len(audio_segment) / 1000.0  # duração em segundos\n",
        "    display(Audio('output.mp3', autoplay=True))\n",
        "    time.sleep(duration_seconds)\n",
        "\n",
        "def classificar_intencao(consulta, df, model=model_embed):\n",
        "    log_function_call()\n",
        "    \"\"\"Classifica a intenção do usuário com base na similaridade de embeddings.\"\"\"\n",
        "    embedding_da_consulta = gerar_embedding(consulta, model)\n",
        "    produtos_escalares = np.dot(np.stack(df[\"embedding\"]), embedding_da_consulta)\n",
        "    indice = np.argmax(produtos_escalares)\n",
        "    return df.iloc[indice][\"titulo\"]"
      ],
      "metadata": {
        "id": "H22LrgqmUa5X"
      },
      "execution_count": null,
      "outputs": []
    },
    {
      "cell_type": "code",
      "source": [
        "chat = Chat()\n",
        "chat.incio()"
      ],
      "metadata": {
        "id": "B0_-ylyzUkZM",
        "colab": {
          "base_uri": "https://localhost:8080/",
          "height": 391
        },
        "outputId": "6be3ba1e-c0f3-4218-8bf8-7a04f2a2da79"
      },
      "execution_count": 25,
      "outputs": [
        {
          "output_type": "stream",
          "name": "stdout",
          "text": [
            "Iniciando o assistente...\n"
          ]
        },
        {
          "output_type": "display_data",
          "data": {
            "text/plain": [
              "<IPython.lib.display.Audio object>"
            ],
            "text/html": [
              "\n",
              "                <audio  controls=\"controls\" autoplay=\"autoplay\">\n",
              "                    <source src=\"data:audio/mpeg;base64,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\" type=\"audio/mpeg\" />\n",
              "                    Your browser does not support the audio element.\n",
              "                </audio>\n",
              "              "
            ]
          },
          "metadata": {}
        },
        {
          "output_type": "error",
          "ename": "KeyboardInterrupt",
          "evalue": "",
          "traceback": [
            "\u001b[0;31m---------------------------------------------------------------------------\u001b[0m",
            "\u001b[0;31mKeyboardInterrupt\u001b[0m                         Traceback (most recent call last)",
            "\u001b[0;32m<ipython-input-25-96f80cc71d8f>\u001b[0m in \u001b[0;36m<cell line: 2>\u001b[0;34m()\u001b[0m\n\u001b[1;32m      1\u001b[0m \u001b[0mchat\u001b[0m \u001b[0;34m=\u001b[0m \u001b[0mChat\u001b[0m\u001b[0;34m(\u001b[0m\u001b[0;34m)\u001b[0m\u001b[0;34m\u001b[0m\u001b[0;34m\u001b[0m\u001b[0m\n\u001b[0;32m----> 2\u001b[0;31m \u001b[0mchat\u001b[0m\u001b[0;34m.\u001b[0m\u001b[0mincio\u001b[0m\u001b[0;34m(\u001b[0m\u001b[0;34m)\u001b[0m\u001b[0;34m\u001b[0m\u001b[0;34m\u001b[0m\u001b[0m\n\u001b[0m",
            "\u001b[0;32m<ipython-input-18-8937fc2b2800>\u001b[0m in \u001b[0;36mincio\u001b[0;34m(self)\u001b[0m\n\u001b[1;32m     20\u001b[0m         \u001b[0mout\u001b[0m \u001b[0;34m=\u001b[0m \u001b[0;34m\"Iniciando o assistente...\"\u001b[0m\u001b[0;34m\u001b[0m\u001b[0;34m\u001b[0m\u001b[0m\n\u001b[1;32m     21\u001b[0m         \u001b[0mprint\u001b[0m\u001b[0;34m(\u001b[0m\u001b[0mout\u001b[0m\u001b[0;34m)\u001b[0m\u001b[0;34m\u001b[0m\u001b[0;34m\u001b[0m\u001b[0m\n\u001b[0;32m---> 22\u001b[0;31m         \u001b[0mself\u001b[0m\u001b[0;34m.\u001b[0m\u001b[0mmenu_principal\u001b[0m\u001b[0;34m(\u001b[0m\u001b[0;34m)\u001b[0m\u001b[0;34m\u001b[0m\u001b[0;34m\u001b[0m\u001b[0m\n\u001b[0m\u001b[1;32m     23\u001b[0m         \u001b[0mout\u001b[0m \u001b[0;34m=\u001b[0m \u001b[0;34m\"Terminando o programa...\"\u001b[0m\u001b[0;34m\u001b[0m\u001b[0;34m\u001b[0m\u001b[0m\n\u001b[1;32m     24\u001b[0m         \u001b[0mprint\u001b[0m\u001b[0;34m(\u001b[0m\u001b[0mout\u001b[0m\u001b[0;34m)\u001b[0m\u001b[0;34m\u001b[0m\u001b[0;34m\u001b[0m\u001b[0m\n",
            "\u001b[0;32m<ipython-input-18-8937fc2b2800>\u001b[0m in \u001b[0;36mmenu_principal\u001b[0;34m(self)\u001b[0m\n\u001b[1;32m     37\u001b[0m         \u001b[0mvoltar\u001b[0m \u001b[0;34m=\u001b[0m \u001b[0;32mFalse\u001b[0m\u001b[0;34m\u001b[0m\u001b[0;34m\u001b[0m\u001b[0m\n\u001b[1;32m     38\u001b[0m         \u001b[0;32mwhile\u001b[0m \u001b[0;32mnot\u001b[0m \u001b[0mvoltar\u001b[0m\u001b[0;34m:\u001b[0m\u001b[0;34m\u001b[0m\u001b[0;34m\u001b[0m\u001b[0m\n\u001b[0;32m---> 39\u001b[0;31m             \u001b[0mself\u001b[0m\u001b[0;34m.\u001b[0m\u001b[0mpegar_resposta\u001b[0m\u001b[0;34m(\u001b[0m\u001b[0;34m)\u001b[0m\u001b[0;34m\u001b[0m\u001b[0;34m\u001b[0m\u001b[0m\n\u001b[0m\u001b[1;32m     40\u001b[0m             \u001b[0mself\u001b[0m\u001b[0;34m.\u001b[0m\u001b[0mouvir_escrever\u001b[0m\u001b[0;34m(\u001b[0m\u001b[0;34m)\u001b[0m\u001b[0;34m\u001b[0m\u001b[0;34m\u001b[0m\u001b[0m\n\u001b[1;32m     41\u001b[0m             \u001b[0mself\u001b[0m\u001b[0;34m.\u001b[0m\u001b[0mintencao\u001b[0m \u001b[0;34m=\u001b[0m \u001b[0mclassificar_intencao\u001b[0m\u001b[0;34m(\u001b[0m\u001b[0mself\u001b[0m\u001b[0;34m.\u001b[0m\u001b[0minput\u001b[0m\u001b[0;34m,\u001b[0m \u001b[0mdf_intencoes\u001b[0m\u001b[0;34m)\u001b[0m\u001b[0;34m\u001b[0m\u001b[0;34m\u001b[0m\u001b[0m\n",
            "\u001b[0;32m<ipython-input-18-8937fc2b2800>\u001b[0m in \u001b[0;36mpegar_resposta\u001b[0;34m(self)\u001b[0m\n\u001b[1;32m    134\u001b[0m         \u001b[0mlog_function_call\u001b[0m\u001b[0;34m(\u001b[0m\u001b[0;34m)\u001b[0m\u001b[0;34m\u001b[0m\u001b[0;34m\u001b[0m\u001b[0m\n\u001b[1;32m    135\u001b[0m         \u001b[0mself\u001b[0m\u001b[0;34m.\u001b[0m\u001b[0mprompt\u001b[0m \u001b[0;34m=\u001b[0m \u001b[0mprompt_gemini\u001b[0m\u001b[0;34m[\u001b[0m\u001b[0mself\u001b[0m\u001b[0;34m.\u001b[0m\u001b[0mcomando\u001b[0m\u001b[0;34m]\u001b[0m\u001b[0;34m\u001b[0m\u001b[0;34m\u001b[0m\u001b[0m\n\u001b[0;32m--> 136\u001b[0;31m         \u001b[0mself\u001b[0m\u001b[0;34m.\u001b[0m\u001b[0mfalar_gemini\u001b[0m\u001b[0;34m(\u001b[0m\u001b[0;34m)\u001b[0m\u001b[0;34m\u001b[0m\u001b[0;34m\u001b[0m\u001b[0m\n\u001b[0m\u001b[1;32m    137\u001b[0m \u001b[0;34m\u001b[0m\u001b[0m\n\u001b[1;32m    138\u001b[0m     \u001b[0;32mdef\u001b[0m \u001b[0mouvir_escrever\u001b[0m\u001b[0;34m(\u001b[0m\u001b[0mself\u001b[0m\u001b[0;34m,\u001b[0m\u001b[0msec\u001b[0m\u001b[0;34m=\u001b[0m\u001b[0;36m3\u001b[0m\u001b[0;34m)\u001b[0m\u001b[0;34m:\u001b[0m\u001b[0;34m\u001b[0m\u001b[0;34m\u001b[0m\u001b[0m\n",
            "\u001b[0;32m<ipython-input-18-8937fc2b2800>\u001b[0m in \u001b[0;36mfalar_gemini\u001b[0;34m(self, texto)\u001b[0m\n\u001b[1;32m    129\u001b[0m         \u001b[0mresposta\u001b[0m \u001b[0;34m=\u001b[0m \u001b[0mgemini_conversa\u001b[0m\u001b[0;34m.\u001b[0m\u001b[0msend_message\u001b[0m\u001b[0;34m(\u001b[0m\u001b[0mexpressao\u001b[0m\u001b[0;34m)\u001b[0m\u001b[0;34m\u001b[0m\u001b[0;34m\u001b[0m\u001b[0m\n\u001b[1;32m    130\u001b[0m         \u001b[0mself\u001b[0m\u001b[0;34m.\u001b[0m\u001b[0moutput\u001b[0m \u001b[0;34m=\u001b[0m \u001b[0mresposta\u001b[0m\u001b[0;34m.\u001b[0m\u001b[0mtext\u001b[0m\u001b[0;34m\u001b[0m\u001b[0;34m\u001b[0m\u001b[0m\n\u001b[0;32m--> 131\u001b[0;31m         \u001b[0mplay\u001b[0m\u001b[0;34m(\u001b[0m\u001b[0mself\u001b[0m\u001b[0;34m.\u001b[0m\u001b[0moutput\u001b[0m\u001b[0;34m)\u001b[0m\u001b[0;34m\u001b[0m\u001b[0;34m\u001b[0m\u001b[0m\n\u001b[0m\u001b[1;32m    132\u001b[0m \u001b[0;34m\u001b[0m\u001b[0m\n\u001b[1;32m    133\u001b[0m     \u001b[0;32mdef\u001b[0m \u001b[0mpegar_resposta\u001b[0m\u001b[0;34m(\u001b[0m\u001b[0mself\u001b[0m\u001b[0;34m)\u001b[0m\u001b[0;34m:\u001b[0m\u001b[0;34m\u001b[0m\u001b[0;34m\u001b[0m\u001b[0m\n",
            "\u001b[0;32m<ipython-input-18-8937fc2b2800>\u001b[0m in \u001b[0;36mplay\u001b[0;34m(text)\u001b[0m\n\u001b[1;32m    182\u001b[0m     \u001b[0mduration_seconds\u001b[0m \u001b[0;34m=\u001b[0m \u001b[0mlen\u001b[0m\u001b[0;34m(\u001b[0m\u001b[0maudio_segment\u001b[0m\u001b[0;34m)\u001b[0m \u001b[0;34m/\u001b[0m \u001b[0;36m1000.0\u001b[0m  \u001b[0;31m# duração em segundos\u001b[0m\u001b[0;34m\u001b[0m\u001b[0;34m\u001b[0m\u001b[0m\n\u001b[1;32m    183\u001b[0m     \u001b[0mdisplay\u001b[0m\u001b[0;34m(\u001b[0m\u001b[0mAudio\u001b[0m\u001b[0;34m(\u001b[0m\u001b[0;34m'output.mp3'\u001b[0m\u001b[0;34m,\u001b[0m \u001b[0mautoplay\u001b[0m\u001b[0;34m=\u001b[0m\u001b[0;32mTrue\u001b[0m\u001b[0;34m)\u001b[0m\u001b[0;34m)\u001b[0m\u001b[0;34m\u001b[0m\u001b[0;34m\u001b[0m\u001b[0m\n\u001b[0;32m--> 184\u001b[0;31m     \u001b[0mtime\u001b[0m\u001b[0;34m.\u001b[0m\u001b[0msleep\u001b[0m\u001b[0;34m(\u001b[0m\u001b[0mduration_seconds\u001b[0m\u001b[0;34m)\u001b[0m\u001b[0;34m\u001b[0m\u001b[0;34m\u001b[0m\u001b[0m\n\u001b[0m\u001b[1;32m    185\u001b[0m \u001b[0;34m\u001b[0m\u001b[0m\n\u001b[1;32m    186\u001b[0m \u001b[0;32mdef\u001b[0m \u001b[0mclassificar_intencao\u001b[0m\u001b[0;34m(\u001b[0m\u001b[0mconsulta\u001b[0m\u001b[0;34m,\u001b[0m \u001b[0mdf\u001b[0m\u001b[0;34m,\u001b[0m \u001b[0mmodel\u001b[0m\u001b[0;34m=\u001b[0m\u001b[0mmodel_embed\u001b[0m\u001b[0;34m)\u001b[0m\u001b[0;34m:\u001b[0m\u001b[0;34m\u001b[0m\u001b[0;34m\u001b[0m\u001b[0m\n",
            "\u001b[0;31mKeyboardInterrupt\u001b[0m: "
          ]
        }
      ]
    }
  ]
}